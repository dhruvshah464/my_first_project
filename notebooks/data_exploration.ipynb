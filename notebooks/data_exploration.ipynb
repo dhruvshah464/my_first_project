{
 "cells": [
  {
   "cell_type": "code",
   "execution_count": 6,
   "metadata": {},
   "outputs": [
    {
     "name": "stdout",
     "output_type": "stream",
     "text": [
      "{'NAME': 'DHRUV', 'SYSTEMIP': '10.156.128.12'}\n"
     ]
    },
    {
     "data": {
      "text/plain": [
       "'10.156.128.12'"
      ]
     },
     "execution_count": 6,
     "metadata": {},
     "output_type": "execute_result"
    }
   ],
   "source": [
    "import yaml\n",
    "\n",
    "# Specify the path to your YAML file\n",
    "yaml_file_path = r'/Users/shahdhruv/Documents/my_first_project/config/environment.yaml'\n",
    "\n",
    "\n",
    "# Read YAML file\n",
    "with open(yaml_file_path, 'r') as file:\n",
    "    data = yaml.load(file, Loader=yaml.FullLoader)\n",
    "\n",
    "# Now 'data' contains the content of the YAML file\n",
    "print(data)\n",
    "data['SYSTEMIP']\n"
   ]
  },
  {
   "cell_type": "code",
   "execution_count": null,
   "metadata": {},
   "outputs": [],
   "source": []
  }
 ],
 "metadata": {
  "kernelspec": {
   "display_name": "Python 3",
   "language": "python",
   "name": "python3"
  },
  "language_info": {
   "codemirror_mode": {
    "name": "ipython",
    "version": 3
   },
   "file_extension": ".py",
   "mimetype": "text/x-python",
   "name": "python",
   "nbconvert_exporter": "python",
   "pygments_lexer": "ipython3",
   "version": "3.9.6"
  }
 },
 "nbformat": 4,
 "nbformat_minor": 2
}
